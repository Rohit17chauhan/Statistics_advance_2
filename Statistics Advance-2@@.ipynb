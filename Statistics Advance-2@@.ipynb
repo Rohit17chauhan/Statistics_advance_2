{
 "cells": [
  {
   "cell_type": "markdown",
   "id": "1ee1fe52",
   "metadata": {},
   "source": [
    "Q1: What are the Probability Mass Function (PMF) and Probability Density Function (PDF)? Explain with\n",
    "an example"
   ]
  },
  {
   "cell_type": "code",
   "execution_count": 1,
   "id": "aefdbd8d",
   "metadata": {},
   "outputs": [
    {
     "data": {
      "text/plain": [
       "'PMF is used for discrete random variables to assign probabilities to specific values, while PDF is used for continuous\\nrandom variables to describe the relative likelihood of X falling within a range of values.\\n\\nExample:\\nPMF-Rolling a dies.\\nPDF-Height of student in a class room.\\n'"
      ]
     },
     "execution_count": 1,
     "metadata": {},
     "output_type": "execute_result"
    }
   ],
   "source": [
    "Ans1=\"\"\"PMF is used for discrete random variables to assign probabilities to specific values, while PDF is used for continuous\n",
    "random variables to describe the relative likelihood of X falling within a range of values.\n",
    "\n",
    "Example:\n",
    "PMF-Rolling a dies.\n",
    "PDF-Height of student in a class room.\n",
    "\"\"\"\n",
    "Ans1"
   ]
  },
  {
   "cell_type": "markdown",
   "id": "630b456b",
   "metadata": {},
   "source": [
    "Q2: What is Cumulative Density Function (CDF)? Explain with an example. Why CDF is used?"
   ]
  },
  {
   "cell_type": "code",
   "execution_count": 3,
   "id": "cddb3ffb",
   "metadata": {},
   "outputs": [
    {
     "data": {
      "text/plain": [
       "'the Cumulative Distribution Function (CDF) is a critical tool for understanding and analyzing the behavior of random \\nvariables, providing a comprehensive view of their probability distribution and enabling the calculation of various \\nprobabilities associated with the random variable.\\nBy the help of cummulative distribution we add the specific area under the curve .\\n\\nExample- Rollong a fair dies, it add one by value until the 1 not come like 1/6, 1/6+1/6 ,1/6+1/6+1/6, ......, 1/6+1/6+1/6+1/6+1/6+1/6\\n\\nIt used to Describing Distribution,Calculating Probabilities,Understanding Behavior,and Comparing Distributions'"
      ]
     },
     "execution_count": 3,
     "metadata": {},
     "output_type": "execute_result"
    }
   ],
   "source": [
    "Ans2=\"\"\"the Cumulative Distribution Function (CDF) is a critical tool for understanding and analyzing the behavior of random \n",
    "variables, providing a comprehensive view of their probability distribution and enabling the calculation of various \n",
    "probabilities associated with the random variable.\n",
    "By the help of cummulative distribution we add the specific area under the curve .\n",
    "\n",
    "Example- Rollong a fair dies, it add one by value until the 1 not come like 1/6, 1/6+1/6 ,1/6+1/6+1/6, ......, 1/6+1/6+1/6+1/6+1/6+1/6\n",
    "\n",
    "It used to Describing Distribution,Calculating Probabilities,Understanding Behavior,and Comparing Distributions\"\"\"\n",
    "Ans2"
   ]
  },
  {
   "cell_type": "markdown",
   "id": "c7383ea8",
   "metadata": {},
   "source": [
    "Q3: What are some examples of situations where the normal distribution might be used as a model?\n",
    "Explain how the parameters of the normal distribution relate to the shape of the distribution."
   ]
  },
  {
   "cell_type": "code",
   "execution_count": 5,
   "id": "af3f24a1",
   "metadata": {},
   "outputs": [
    {
     "data": {
      "text/plain": [
       "\"The normal distribution, also known as the Gaussian distribution, is a widely used probability distribution in various \\nfields due to its mathematical tractability and its ability to describe many natural phenomena\\n the normal distribution is versatile and applicable to various scenarios, and its shape is primarily determined by the mean (μ)\\n and standard deviation (σ), with the mean setting the center and the standard deviation controlling the spread of the\\n distribution around the mean..\\n\\nExample-\\nHeight of Individuals: The heights of adults in a population often follow a normal distribution, where most individuals cluster \\naround the mean height, with fewer individuals being very tall or very short.\\n\\nMeasurement Errors: Errors in measurement instruments (e.g., scales, rulers) often exhibit a normal distribution around the\\ntrue value due to random factors influencing each measurement.\\n\\n\\nHere's how these parameters affect the shape of the distribution:\\n\\nMean (μ): The mean (μ) is the center of the distribution. It determines where the peak of the distribution is located on the\\nx-axis. If μ increases, the distribution shifts to the right; if μ decreases, the distribution shifts to the left.\\n\\nStandard Deviation (σ): The standard deviation (σ) controls the spread or width of the distribution. A larger σ means the \\ndata points are more spread out from the mean, resulting in a wider and flatter distribution. A smaller σ means the data points\\nare closer to the mean, resulting in a narrower and taller distribution.\""
      ]
     },
     "execution_count": 5,
     "metadata": {},
     "output_type": "execute_result"
    }
   ],
   "source": [
    "Ans3=\"\"\"The normal distribution, also known as the Gaussian distribution, is a widely used probability distribution in various \n",
    "fields due to its mathematical tractability and its ability to describe many natural phenomena\n",
    " the normal distribution is versatile and applicable to various scenarios, and its shape is primarily determined by the mean (μ)\n",
    " and standard deviation (σ), with the mean setting the center and the standard deviation controlling the spread of the\n",
    " distribution around the mean..\n",
    "\n",
    "Example-\n",
    "Height of Individuals: The heights of adults in a population often follow a normal distribution, where most individuals cluster \n",
    "around the mean height, with fewer individuals being very tall or very short.\n",
    "\n",
    "Measurement Errors: Errors in measurement instruments (e.g., scales, rulers) often exhibit a normal distribution around the\n",
    "true value due to random factors influencing each measurement.\n",
    "\n",
    "\n",
    "Here's how these parameters affect the shape of the distribution:\n",
    "\n",
    "Mean (μ): The mean (μ) is the center of the distribution. It determines where the peak of the distribution is located on the\n",
    "x-axis. If μ increases, the distribution shifts to the right; if μ decreases, the distribution shifts to the left.\n",
    "\n",
    "Standard Deviation (σ): The standard deviation (σ) controls the spread or width of the distribution. A larger σ means the \n",
    "data points are more spread out from the mean, resulting in a wider and flatter distribution. A smaller σ means the data points\n",
    "are closer to the mean, resulting in a narrower and taller distribution.\"\"\"\n",
    "Ans3"
   ]
  },
  {
   "cell_type": "markdown",
   "id": "f6be33d7",
   "metadata": {},
   "source": [
    "Q4: Explain the importance of Normal Distribution. Give a few real-life examples of Normal\n",
    "Distribution."
   ]
  },
  {
   "cell_type": "code",
   "execution_count": 6,
   "id": "89bb85f2",
   "metadata": {},
   "outputs": [
    {
     "data": {
      "text/plain": [
       "'The normal distribution, also known as the Gaussian distribution, holds significant importance in statistics, data \\nanalysis, and various fields due to several key reasons:\\n\\nCentral Limit Theorem (CLT): One of the most important aspects of the normal distribution is its connection to the Central\\nLimit Theorem. According to the CLT, the sampling distribution of the sample mean (or sum) of a random sample drawn from any\\npopulation will tend to follow a normal distribution, regardless of the shape of the original population distribution, as the\\nsample size increases. \\nMathematical Simplicity: The normal distribution is mathematically tractable and well-understood. It has a simple functional \\nform defined by two parameters (mean and standard deviation) and is characterized by symmetrical bell-shaped curves.\\n\\nReal-life Examples of Normal Distribution:\\nHeight of Individuals,IQ Scores,Test Scores'"
      ]
     },
     "execution_count": 6,
     "metadata": {},
     "output_type": "execute_result"
    }
   ],
   "source": [
    "Ans4=\"\"\"The normal distribution, also known as the Gaussian distribution, holds significant importance in statistics, data \n",
    "analysis, and various fields due to several key reasons:\n",
    "\n",
    "Central Limit Theorem (CLT): One of the most important aspects of the normal distribution is its connection to the Central\n",
    "Limit Theorem. According to the CLT, the sampling distribution of the sample mean (or sum) of a random sample drawn from any\n",
    "population will tend to follow a normal distribution, regardless of the shape of the original population distribution, as the\n",
    "sample size increases. \n",
    "Mathematical Simplicity: The normal distribution is mathematically tractable and well-understood. It has a simple functional \n",
    "form defined by two parameters (mean and standard deviation) and is characterized by symmetrical bell-shaped curves.\n",
    "\n",
    "Real-life Examples of Normal Distribution:\n",
    "Height of Individuals,IQ Scores,Test Scores\"\"\"\n",
    "Ans4"
   ]
  },
  {
   "cell_type": "markdown",
   "id": "b1cb8321",
   "metadata": {},
   "source": [
    "Q5: What is Bernaulli Distribution? Give an Example. What is the difference between Bernoulli\n",
    "Distribution and Binomial Distribution?"
   ]
  },
  {
   "cell_type": "code",
   "execution_count": 7,
   "id": "9e313f63",
   "metadata": {},
   "outputs": [
    {
     "data": {
      "text/plain": [
       "'The Bernoulli distribution is a fundamental probability distribution that models a random experiment with two possible\\noutcomes: success (usually denoted as 1) and failure (usually denoted as 0). \\nIt is named after Swiss mathematician Jacob Bernoulli.\\nExample of Bernoulli Distribution:\\n\\nConsider an experiment of flipping a fair coin, where getting heads (H) is considered a success (denoted as 1) and getting \\ntails (T) is considered a failure (denoted as 0). Here, p=1/2represents the probability of getting heads (success), and 1-p\\nrepresents the probability of getting tails (failure). Therefore, the outcome of this experiment can be modeled using \\na Bernoulli distribution with \\np=1/2\\n Differences:\\n\\nBernoulli distribution models a single trial, while binomial distribution models multiple independent trials.\\nBinomial distribution is the sum of n independent identically distributed Bernoulli trials.\\nThe Bernoulli distribution is a special case of the binomial distribution when n=1.'"
      ]
     },
     "execution_count": 7,
     "metadata": {},
     "output_type": "execute_result"
    }
   ],
   "source": [
    "Ans5=\"\"\"The Bernoulli distribution is a fundamental probability distribution that models a random experiment with two possible\n",
    "outcomes: success (usually denoted as 1) and failure (usually denoted as 0). \n",
    "It is named after Swiss mathematician Jacob Bernoulli.\n",
    "Example of Bernoulli Distribution:\n",
    "\n",
    "Consider an experiment of flipping a fair coin, where getting heads (H) is considered a success (denoted as 1) and getting \n",
    "tails (T) is considered a failure (denoted as 0). Here, p=1/2represents the probability of getting heads (success), and 1-p\n",
    "represents the probability of getting tails (failure). Therefore, the outcome of this experiment can be modeled using \n",
    "a Bernoulli distribution with \n",
    "p=1/2\n",
    " Differences:\n",
    "\n",
    "Bernoulli distribution models a single trial, while binomial distribution models multiple independent trials.\n",
    "Binomial distribution is the sum of n independent identically distributed Bernoulli trials.\n",
    "The Bernoulli distribution is a special case of the binomial distribution when n=1.\"\"\"\n",
    "Ans5"
   ]
  },
  {
   "cell_type": "markdown",
   "id": "bafd09cf",
   "metadata": {},
   "source": [
    "Q6. Consider a dataset with a mean of 50 and a standard deviation of 10. If we assume that the dataset\n",
    "is normally distributed, what is the probability that a randomly selected observation will be greater\n",
    "than 60? Use the appropriate formula and show your calculations."
   ]
  },
  {
   "cell_type": "code",
   "execution_count": 3,
   "id": "ab790b1a",
   "metadata": {},
   "outputs": [
    {
     "data": {
      "text/plain": [
       "'Here i using Z-score\\ngive:μ=30,σ=10,Xi=60\\nstep1-\\nZ-Score=Xi-μ/σ\\n       =60-50/10\\n       =10/10\\n       =1\\nstep2-\\nNow go for the z table,so the value which are coming is\\nArea under the curve=0.84134\\n                    =84.134\\n                    \\nstep3-\\nArea under the curve is greater than 60\\n=1-0.84134\\n=0.15866\\n~=15%\\n'"
      ]
     },
     "execution_count": 3,
     "metadata": {},
     "output_type": "execute_result"
    }
   ],
   "source": [
    "Ans6=\"\"\"Here i using Z-score\n",
    "give:μ=30,σ=10,Xi=60\n",
    "step1-\n",
    "Z-Score=Xi-μ/σ\n",
    "       =60-50/10\n",
    "       =10/10\n",
    "       =1\n",
    "step2-\n",
    "Now go for the z table,so the value which are coming is\n",
    "Area under the curve=0.84134\n",
    "                    =84.134\n",
    "                    \n",
    "step3-\n",
    "Area under the curve is greater than 60\n",
    "=1-0.84134\n",
    "=0.15866\n",
    "~=15%\n",
    "\"\"\"\n",
    "Ans6"
   ]
  },
  {
   "cell_type": "markdown",
   "id": "fadaf843",
   "metadata": {},
   "source": [
    "Q7: Explain uniform Distribution with an example."
   ]
  },
  {
   "cell_type": "code",
   "execution_count": 8,
   "id": "a0675d9b",
   "metadata": {},
   "outputs": [
    {
     "data": {
      "text/plain": [
       "'The uniform distribution is a probability distribution where all outcomes within a given range are equally likely.\\nIt is characterized by a constant probability density function (PDF) between two endpoints of the interval.\\nEaxmple- Rolling a Fair Six-Sided Die'"
      ]
     },
     "execution_count": 8,
     "metadata": {},
     "output_type": "execute_result"
    }
   ],
   "source": [
    "Ans7=\"\"\"The uniform distribution is a probability distribution where all outcomes within a given range are equally likely.\n",
    "It is characterized by a constant probability density function (PDF) between two endpoints of the interval.\n",
    "Eaxmple- Rolling a Fair Six-Sided Die\"\"\"\n",
    "Ans7"
   ]
  },
  {
   "cell_type": "markdown",
   "id": "ddfaa722",
   "metadata": {},
   "source": [
    "Q8: What is the z score? State the importance of the z score."
   ]
  },
  {
   "cell_type": "code",
   "execution_count": 9,
   "id": "26ea4b5c",
   "metadata": {},
   "outputs": [
    {
     "data": {
      "text/plain": [
       "'\\nThe z-score, also known as the standard score or standard normal deviate, is a measure of how many standard deviations a data\\npoint is from the mean of a dataset. It is used to standardize and compare data points from different normal distributions, \\nallowing for meaningful comparisons and statistical analysis across different scales and distributions.\\nGiven a random variable X with mean μ and standard deviationσ, the z-score Z of a data point x is calculated as:z=x-μ/σ\\nhere\\nx is an individual data point.\\nμ is the mean of the distribution.\\nσ is the standard deviation of the distribution.\\nImportance of Z-Score:\\nStandardization,Statistical Analysis and Inference,Identifying Outlier'"
      ]
     },
     "execution_count": 9,
     "metadata": {},
     "output_type": "execute_result"
    }
   ],
   "source": [
    "Ans8=\"\"\"\n",
    "The z-score, also known as the standard score or standard normal deviate, is a measure of how many standard deviations a data\n",
    "point is from the mean of a dataset. It is used to standardize and compare data points from different normal distributions, \n",
    "allowing for meaningful comparisons and statistical analysis across different scales and distributions.\n",
    "Given a random variable X with mean μ and standard deviationσ, the z-score Z of a data point x is calculated as:z=x-μ/σ\n",
    "here\n",
    "x is an individual data point.\n",
    "μ is the mean of the distribution.\n",
    "σ is the standard deviation of the distribution.\n",
    "Importance of Z-Score:\n",
    "Standardization,Statistical Analysis and Inference,Identifying Outlier\"\"\"\n",
    "Ans8"
   ]
  },
  {
   "cell_type": "markdown",
   "id": "b84a59dd",
   "metadata": {},
   "source": [
    "Q9: What is Central Limit Theorem? State the significance of the Central Limit Theorem"
   ]
  },
  {
   "cell_type": "code",
   "execution_count": 10,
   "id": "397afe29",
   "metadata": {},
   "outputs": [
    {
     "data": {
      "text/plain": [
       "'Central limit theorem says that the sampling distribution of the mean will always be normally distribited ,\\nas long as the sample size is large enough. Regardless of wheather the population has a normal, possion ,binomial,or \\nany other distribution , the sampling of the distribution of the mean will always noramal.\\n\\nSignificance of the Central Limit Theorem:\\nApproximation of Sample Means,Sampling Distribution,Statistical Inference'"
      ]
     },
     "execution_count": 10,
     "metadata": {},
     "output_type": "execute_result"
    }
   ],
   "source": [
    "Ans9=\"\"\"Central limit theorem says that the sampling distribution of the mean will always be normally distribited ,\n",
    "as long as the sample size is large enough. Regardless of wheather the population has a normal, possion ,binomial,or \n",
    "any other distribution , the sampling of the distribution of the mean will always noramal.\n",
    "\n",
    "Significance of the Central Limit Theorem:\n",
    "Approximation of Sample Means,Sampling Distribution,Statistical Inference\"\"\"\n",
    "Ans9"
   ]
  },
  {
   "cell_type": "markdown",
   "id": "44b655fe",
   "metadata": {},
   "source": [
    "Q10: State the assumptions of the Central Limit Theorem."
   ]
  },
  {
   "cell_type": "code",
   "execution_count": 11,
   "id": "2d60f9e8",
   "metadata": {},
   "outputs": [
    {
     "data": {
      "text/plain": [
       "'Independence: The observations in the sample must be independent of each other. This means that the occurrence or \\nvalue of one observation should not affect the occurrence or value of another observation.\\n\\nIdentically Distributed: The random variables in the sample should be identically distributed, meaning they come from the same \\npopulation with the same probability distribution.\\n\\nFinite Mean and Variance: The population from which the sample is drawn should have a finite mean (μ) and a finite variance \\n(σ square ). \\nThese parameters are necessary for defining the characteristics of the sampling distribution.\\n\\nSample Size: While the CLT does not specify an exact minimum sample size, larger sample sizes generally lead to better \\napproximations of normality for the sampling distribution. As a rule of thumb, a sample size of at least 30 is often\\nconsidered sufficient for the CLT to apply, but this can vary depending on the nature of the population distribution.'"
      ]
     },
     "execution_count": 11,
     "metadata": {},
     "output_type": "execute_result"
    }
   ],
   "source": [
    "Ans10=\"\"\"Independence: The observations in the sample must be independent of each other. This means that the occurrence or \n",
    "value of one observation should not affect the occurrence or value of another observation.\n",
    "\n",
    "Identically Distributed: The random variables in the sample should be identically distributed, meaning they come from the same \n",
    "population with the same probability distribution.\n",
    "\n",
    "Finite Mean and Variance: The population from which the sample is drawn should have a finite mean (μ) and a finite variance \n",
    "(σ square ). \n",
    "These parameters are necessary for defining the characteristics of the sampling distribution.\n",
    "\n",
    "Sample Size: While the CLT does not specify an exact minimum sample size, larger sample sizes generally lead to better \n",
    "approximations of normality for the sampling distribution. As a rule of thumb, a sample size of at least 30 is often\n",
    "considered sufficient for the CLT to apply, but this can vary depending on the nature of the population distribution.\"\"\"\n",
    "Ans10"
   ]
  },
  {
   "cell_type": "code",
   "execution_count": null,
   "id": "f9a1fc18",
   "metadata": {},
   "outputs": [],
   "source": []
  }
 ],
 "metadata": {
  "kernelspec": {
   "display_name": "Python 3 (ipykernel)",
   "language": "python",
   "name": "python3"
  },
  "language_info": {
   "codemirror_mode": {
    "name": "ipython",
    "version": 3
   },
   "file_extension": ".py",
   "mimetype": "text/x-python",
   "name": "python",
   "nbconvert_exporter": "python",
   "pygments_lexer": "ipython3",
   "version": "3.9.12"
  }
 },
 "nbformat": 4,
 "nbformat_minor": 5
}
